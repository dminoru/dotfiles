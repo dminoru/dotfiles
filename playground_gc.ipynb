{
  "nbformat": 4,
  "nbformat_minor": 0,
  "metadata": {
    "colab": {
      "name": "playground_gc.ipynb",
      "provenance": [],
      "authorship_tag": "ABX9TyNO630ONyLhO6mmrE0+S7Pg",
      "include_colab_link": true
    },
    "kernelspec": {
      "name": "python3",
      "display_name": "Python 3"
    },
    "language_info": {
      "name": "python"
    }
  },
  "cells": [
    {
      "cell_type": "markdown",
      "metadata": {
        "id": "view-in-github",
        "colab_type": "text"
      },
      "source": [
        "<a href=\"https://colab.research.google.com/github/dminoru/dotfiles/blob/master/playground_gc.ipynb\" target=\"_parent\"><img src=\"https://colab.research.google.com/assets/colab-badge.svg\" alt=\"Open In Colab\"/></a>"
      ]
    },
    {
      "cell_type": "code",
      "metadata": {
        "id": "y8Fvu5F3HH3a"
      },
      "source": [
        "from tensorflow.keras import models\n",
        "from tensorflow.keras import layers\n",
        "\n",
        "model = models.Sequential()\n",
        "\n",
        "model.add(layers.Dense(5, activation='relu', input_dim=2)) # First hidden layer with 5 neurons\n",
        "model.add(layers.Dense(4, activation='relu')) # Second hidden layer with 4 neurons\n",
        "model.add(layers.Dense(3, activation='relu')) # Third hidden layer with 3 neurons\n",
        "\n",
        "# Output layer that outputs a probability which is\n",
        "# necessary in the case of a 2 class classification problem\n",
        "model.add(layers.Dense(1, activation='sigmoid')) \n",
        "\n",
        "# For now, let's skip the model.compile() and the model.fit()"
      ],
      "execution_count": 1,
      "outputs": []
    },
    {
      "cell_type": "code",
      "metadata": {
        "id": "UiIM9GaCHPdU"
      },
      "source": [
        "model2 = models.Sequential()\n",
        "\n",
        "model2.add(layers.Dense(8, activation='relu', input_dim=2))\n",
        "model2.add(layers.Dense(2, activation='relu'))\n",
        "\n",
        "model2.add(layers.Dense(1, activation='sigmoid')) "
      ],
      "execution_count": 2,
      "outputs": []
    }
  ]
}