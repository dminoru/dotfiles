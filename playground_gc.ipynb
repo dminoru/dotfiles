{
  "nbformat": 4,
  "nbformat_minor": 0,
  "metadata": {
    "colab": {
      "name": "playground_gc.ipynb",
      "provenance": [],
      "collapsed_sections": [],
      "authorship_tag": "ABX9TyO9s6JJ8zYrS3bkqzdF0h7+",
      "include_colab_link": true
    },
    "kernelspec": {
      "name": "python3",
      "display_name": "Python 3"
    },
    "language_info": {
      "name": "python"
    }
  },
  "cells": [
    {
      "cell_type": "markdown",
      "metadata": {
        "id": "view-in-github",
        "colab_type": "text"
      },
      "source": [
        "<a href=\"https://colab.research.google.com/github/dminoru/dotfiles/blob/master/playground_gc.ipynb\" target=\"_parent\"><img src=\"https://colab.research.google.com/assets/colab-badge.svg\" alt=\"Open In Colab\"/></a>"
      ]
    },
    {
      "cell_type": "code",
      "metadata": {
        "id": "y8Fvu5F3HH3a"
      },
      "source": [
        "from tensorflow.keras import models\n",
        "from tensorflow.keras import layers\n",
        "\n",
        "model = models.Sequential()\n",
        "\n",
        "model.add(layers.Dense(5, activation='relu', input_dim=2)) # First hidden layer with 5 neurons\n",
        "model.add(layers.Dense(4, activation='relu')) # Second hidden layer with 4 neurons\n",
        "model.add(layers.Dense(3, activation='relu')) # Third hidden layer with 3 neurons\n",
        "\n",
        "# Output layer that outputs a probability which is\n",
        "# necessary in the case of a 2 class classification problem\n",
        "model.add(layers.Dense(1, activation='sigmoid')) \n",
        "\n",
        "# For now, let's skip the model.compile() and the model.fit()"
      ],
      "execution_count": 1,
      "outputs": []
    },
    {
      "cell_type": "markdown",
      "metadata": {
        "id": "fdVt7dZrKBU_"
      },
      "source": [
        "# 5 - Change the dataset\n",
        "\n",
        "Change the dataset for the \"XOR - Exclusive Or\".\n",
        "\n",
        "❓ Question ❓ \n",
        "- Find on the Playground a model with two hidden layers (the number of neurons per layer is for you to choose) that has a very small **test loss**. \n",
        "- Once you have your model on Playground, write it below with the Keras library"
      ]
    },
    {
      "cell_type": "code",
      "metadata": {
        "id": "UiIM9GaCHPdU"
      },
      "source": [
        "model2 = models.Sequential()\n",
        "\n",
        "model2.add(layers.Dense(8, activation='relu', input_dim=2))\n",
        "model2.add(layers.Dense(2, activation='relu'))\n",
        "\n",
        "model2.add(layers.Dense(1, activation='sigmoid')) "
      ],
      "execution_count": 3,
      "outputs": []
    },
    {
      "cell_type": "markdown",
      "metadata": {
        "id": "QxKcDuLZKFxV"
      },
      "source": [
        "❓ Question ❓ Try to repeat the same process with the **Spiral**! "
      ]
    },
    {
      "cell_type": "code",
      "metadata": {
        "id": "sOoxQ0tTJ8js"
      },
      "source": [
        "model3 = models.Sequential()\n",
        "\n",
        "model3.add(layers.Dense(6, activation='relu', input_dim=2))\n",
        "model3.add(layers.Dense(5, activation='relu'))\n",
        "\n",
        "model3.add(layers.Dense(1, activation='sigmoid')) "
      ],
      "execution_count": null,
      "outputs": []
    },
    {
      "cell_type": "markdown",
      "metadata": {
        "id": "MLt5zUrqKOC7"
      },
      "source": [
        "# 6 - Regression\n",
        "\n",
        "Now, switch the problem type to a regression problem. \n",
        "\n",
        "This time, the last layer will no longer look like  \n",
        "`model.add(layers.Dense(1, activation='sigmoid'))`\n",
        "\n",
        "but instead  \n",
        "`model.add(layers.Dense(1, activation='linear'))`\n",
        "\n",
        "meaning that you output 1 final value which is between $ -\\infty$ and $+ \\infty$ \n",
        "\n",
        "❓ Question ❓ Find on Playground a neural network that fits well the second regression dataset and write its architecture in Keras : "
      ]
    },
    {
      "cell_type": "code",
      "metadata": {
        "id": "YU9tPTunKOzD"
      },
      "source": [
        "model4 = models.Sequential()\n",
        "\n",
        "model4.add(layers.Dense(6, activation='relu', input_dim=2))\n",
        "model4.add(layers.Dense(4, activation='relu'))\n",
        "\n",
        "model4.add(layers.Dense(1, activation='linear')) "
      ],
      "execution_count": 4,
      "outputs": []
    }
  ]
}